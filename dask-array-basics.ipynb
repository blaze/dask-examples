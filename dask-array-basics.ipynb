{
 "cells": [
  {
   "cell_type": "markdown",
   "metadata": {},
   "source": [
    "Basics of Dask Array\n",
    "=============\n",
    "\n",
    "This notebook goes through the basics of using `dask.array`.  We do the following\n",
    "\n",
    "0.  [Create a fake dataset and store it in an HDF5 file](#Create-Fake-dataset)\n",
    "1.  [Load data from an HDF5 file](#Load-data-from-HDF5-file)\n",
    "2.  [Perform basic array operations](#Perform-Basic-Array-Computations)\n",
    "3.  [Compute results](#Output-Results)\n"
   ]
  },
  {
   "cell_type": "markdown",
   "metadata": {},
   "source": [
    "## 0: Create Fake dataset\n",
    "\n",
    "We create an artificial dataset to play with.  We use dask.array to create this dataset and then store into an HDF5 file."
   ]
  },
  {
   "cell_type": "code",
   "execution_count": 1,
   "metadata": {
    "collapsed": false
   },
   "outputs": [],
   "source": [
    "!rm -f myfile.hdf5\n",
    "\n",
    "import dask.array as da\n",
    "\n",
    "x = da.fromfunction(lambda i, j, k: i + j + k**2, chunks=(5, 512, 512), shape=(100, 2048, 2048), dtype='f8')\n",
    "x.to_hdf5('myfile.hdf5', '/x', compression='lzf', shuffle=True)"
   ]
  },
  {
   "cell_type": "markdown",
   "metadata": {},
   "source": [
    "1: Load data from HDF5 file\n",
    "----------------------------\n",
    "\n",
    "Now we imagine that we are given the HDF5 file produced above.  We learn how to interact with this data using `dask.array`.\n",
    "\n",
    "First we interact with the HDF5 file with the Python library [`h5py`](http://www.h5py.org/).   H5Py provides a no-nonsense Python view of HDF5 files.  `Dask.array` complements `h5py` by adding computation."
   ]
  },
  {
   "cell_type": "code",
   "execution_count": 2,
   "metadata": {
    "collapsed": false
   },
   "outputs": [
    {
     "data": {
      "text/plain": [
       "<HDF5 dataset \"x\": shape (100, 2048, 2048), type \"<f8\">"
      ]
     },
     "execution_count": 2,
     "metadata": {},
     "output_type": "execute_result"
    }
   ],
   "source": [
    "import h5py\n",
    "f = h5py.File('myfile.hdf5')\n",
    "dset = f['/x']\n",
    "dset"
   ]
  },
  {
   "cell_type": "markdown",
   "metadata": {},
   "source": [
    "This is an `h5py.Dataset` object.  We can slice into it to get numpy arrays out but can't otherwise perform computation.\n",
    "\n",
    "We use the [dask.array.from_array](http://dask.pydata.org/en/latest/array-api.html#dask.array.core.from_array) function to wrap any numpy-like object with dask.array.  We provide two arguments\n",
    "\n",
    "1.  The object `dset`\n",
    "2.  A chunk shape that specifies how we want to break up our large array.  In this case we choose the chunkshape found in the h5py dataset itself."
   ]
  },
  {
   "cell_type": "code",
   "execution_count": 3,
   "metadata": {
    "collapsed": false
   },
   "outputs": [
    {
     "data": {
      "text/plain": [
       "(5, 512, 512)"
      ]
     },
     "execution_count": 3,
     "metadata": {},
     "output_type": "execute_result"
    }
   ],
   "source": [
    "dset.chunks"
   ]
  },
  {
   "cell_type": "code",
   "execution_count": 4,
   "metadata": {
    "collapsed": false
   },
   "outputs": [
    {
     "data": {
      "text/plain": [
       "dask.array<from-ar..., shape=(100, 2048, 2048), dtype=float64>"
      ]
     },
     "execution_count": 4,
     "metadata": {},
     "output_type": "execute_result"
    }
   ],
   "source": [
    "import dask.array as da\n",
    "x = da.from_array(dset, chunks=(5, 512, 512))\n",
    "x"
   ]
  },
  {
   "cell_type": "markdown",
   "metadata": {},
   "source": [
    "2: Perform Basic Array Computations\n",
    "-------------------------------------\n",
    "\n",
    "Our dask array behaves mostly like a normal NumPy array.  We can slice into it, perform arithmetic, reductions, etc. with the same syntax used by numpy.\n",
    "\n",
    "The main difference is that we'll need to add a `.compute()` to our final result."
   ]
  },
  {
   "cell_type": "code",
   "execution_count": 5,
   "metadata": {
    "collapsed": false
   },
   "outputs": [
    {
     "data": {
      "text/plain": [
       "array([[-57.5, -56.5, -53.5, -48.5, -41.5],\n",
       "       [-56.5, -55.5, -52.5, -47.5, -40.5],\n",
       "       [-55.5, -54.5, -51.5, -46.5, -39.5],\n",
       "       [-54.5, -53.5, -50.5, -45.5, -38.5],\n",
       "       [-53.5, -52.5, -49.5, -44.5, -37.5]])"
      ]
     },
     "execution_count": 5,
     "metadata": {},
     "output_type": "execute_result"
    }
   ],
   "source": [
    "a = x[0, :5, :5]\n",
    "b = x[:, :5, :5]\n",
    "c = a - b.mean()\n",
    "\n",
    "c.compute()"
   ]
  },
  {
   "cell_type": "markdown",
   "metadata": {},
   "source": [
    "The intermediate results (like a, b, c) are all `da.Array` objects, not NumPy arrays.  The `.compute()` method transforms `da.Array` objects into `np.ndarray` objects."
   ]
  },
  {
   "cell_type": "code",
   "execution_count": 6,
   "metadata": {
    "collapsed": false
   },
   "outputs": [
    {
     "data": {
      "text/plain": [
       "dask.array<getitem..., shape=(100, 5, 5), dtype=float64>"
      ]
     },
     "execution_count": 6,
     "metadata": {},
     "output_type": "execute_result"
    }
   ],
   "source": [
    "b  # b is a lazily evaluated da.Array"
   ]
  },
  {
   "cell_type": "markdown",
   "metadata": {},
   "source": [
    "Most numpy operations remain available to you.  \n",
    "\n",
    "See the [scope](http://dask.pydata.org/en/latest/array-api.html#dask.array.core.from_array) and [API](http://dask.pydata.org/en/latest/array-api.html) documentation for a complete list."
   ]
  },
  {
   "cell_type": "code",
   "execution_count": 7,
   "metadata": {
    "collapsed": false
   },
   "outputs": [
    {
     "data": {
      "text/plain": [
       "dask.array<atop-2b..., shape=(2048,), dtype=float64>"
      ]
     },
     "execution_count": 7,
     "metadata": {},
     "output_type": "execute_result"
    }
   ],
   "source": [
    "(da.sin(x[0])**2 + da.cos(x[0].T)**2).mean(axis=0)"
   ]
  },
  {
   "cell_type": "markdown",
   "metadata": {},
   "source": [
    "3: Output Results\n",
    "----------------\n",
    "\n",
    "After doing our heavy computation or data reduction in `dask.array` we would like to either store our results on disk, or transfer our smaller results to numpy arrays so that we can interact with the rest of the PyData ecosystem.\n",
    "\n",
    "*  Use `.compute()` to create a numpy array\n",
    "*  Use [`.to_hdf5()`](http://dask.pydata.org/en/latest/array-api.html#dask.array.core.Array.to_hdf5) or [`.store()`](http://dask.pydata.org/en/latest/array-api.html#dask.array.core.store) to store to disk\n",
    "*  Depend upon the `__array__` protocol for automatic conversion with other projects.\n",
    "\n"
   ]
  },
  {
   "cell_type": "markdown",
   "metadata": {},
   "source": [
    "### Use `.compute()` to create a numpy array\n",
    "\n",
    "As we've already seen, the `.compute()` method performs computation and turns our lazily evaluated `da.Array` into a NumPy ndarray."
   ]
  },
  {
   "cell_type": "code",
   "execution_count": 8,
   "metadata": {
    "collapsed": false
   },
   "outputs": [
    {
     "data": {
      "text/plain": [
       "dask.array<atop-2b..., shape=(2048,), dtype=float64>"
      ]
     },
     "execution_count": 8,
     "metadata": {},
     "output_type": "execute_result"
    }
   ],
   "source": [
    "y = (da.sin(x[0])**2 + da.cos(x[0].T)**2).mean(axis=0)\n",
    "y"
   ]
  },
  {
   "cell_type": "code",
   "execution_count": 9,
   "metadata": {
    "collapsed": false
   },
   "outputs": [
    {
     "data": {
      "text/plain": [
       "array([ 0.99411711,  0.97851761,  1.02392765, ...,  1.00357197,\n",
       "        0.97418835,  1.01793332])"
      ]
     },
     "execution_count": 9,
     "metadata": {},
     "output_type": "execute_result"
    }
   ],
   "source": [
    "result = y.compute()\n",
    "result"
   ]
  },
  {
   "cell_type": "code",
   "execution_count": 10,
   "metadata": {
    "collapsed": false
   },
   "outputs": [
    {
     "data": {
      "text/plain": [
       "numpy.ndarray"
      ]
     },
     "execution_count": 10,
     "metadata": {},
     "output_type": "execute_result"
    }
   ],
   "source": [
    "type(result)"
   ]
  },
  {
   "cell_type": "markdown",
   "metadata": {},
   "source": [
    "### Store in HDF5 files\n",
    "\n",
    "You can store your result back in HDF5 files with the `.to_hdf5` method."
   ]
  },
  {
   "cell_type": "code",
   "execution_count": 11,
   "metadata": {
    "collapsed": false
   },
   "outputs": [
    {
     "data": {
      "text/plain": [
       "<HDF5 dataset \"y\": shape (2048,), type \"<f8\">"
      ]
     },
     "execution_count": 11,
     "metadata": {},
     "output_type": "execute_result"
    }
   ],
   "source": [
    "y.to_hdf5('myfile.hdf5', '/y')\n",
    "f['/y']"
   ]
  },
  {
   "cell_type": "markdown",
   "metadata": {},
   "source": [
    "### Store in anything that supports numpy slicing\n",
    "\n",
    "Dask.array can read or write to anything that supports numpy-style slicing using the functions [`da.from_array`](http://dask.pydata.org/en/latest/array-api.html#dask.array.core.from_array) and [`da.store`](http://dask.pydata.org/en/latest/array-api.html#dask.array.core.store).  \n",
    "\n",
    "In the example below we use a proper numpy array `output` but this could be any object that follows slicing rules including NetCDF datasets, BColz carrays, numpy memmap files, etc.."
   ]
  },
  {
   "cell_type": "code",
   "execution_count": 12,
   "metadata": {
    "collapsed": false
   },
   "outputs": [
    {
     "data": {
      "text/plain": [
       "array([ 0.99411711,  0.97851761,  1.02392765, ...,  1.00357197,\n",
       "        0.97418835,  1.01793332])"
      ]
     },
     "execution_count": 12,
     "metadata": {},
     "output_type": "execute_result"
    }
   ],
   "source": [
    "import numpy as np\n",
    "output = np.empty(shape=(2048,), dtype='f8')\n",
    "y.store(output)\n",
    "output"
   ]
  },
  {
   "cell_type": "markdown",
   "metadata": {},
   "source": [
    "### Plot with Matplotlib\n",
    "\n",
    "Because `da.Array` objects implement the `__array__` protocol they often *just work* with other libraries in the ecosystem.  In the example below we drop `da.Array` objects directly into matplotlib functions."
   ]
  },
  {
   "cell_type": "code",
   "execution_count": 13,
   "metadata": {
    "collapsed": false
   },
   "outputs": [],
   "source": [
    "from matplotlib.pyplot import imshow, plot\n",
    "%matplotlib inline"
   ]
  },
  {
   "cell_type": "code",
   "execution_count": 14,
   "metadata": {
    "collapsed": false
   },
   "outputs": [
    {
     "data": {
      "text/plain": [
       "<matplotlib.image.AxesImage at 0x7fb30c3c8c90>"
      ]
     },
     "execution_count": 14,
     "metadata": {},
     "output_type": "execute_result"
    },
    {
     "data": {
      "image/png": "[encoded data removed]",
      "text/plain": [
       "<matplotlib.figure.Figure at 0x7fb3241afed0>"
      ]
     },
     "metadata": {},
     "output_type": "display_data"
    }
   ],
   "source": [
    "imshow(x.mean(axis=0))"
   ]
  },
  {
   "cell_type": "code",
   "execution_count": 15,
   "metadata": {
    "collapsed": false
   },
   "outputs": [
    {
     "data": {
      "text/plain": [
       "[<matplotlib.lines.Line2D at 0x7fb30c2b3650>]"
      ]
     },
     "execution_count": 15,
     "metadata": {},
     "output_type": "execute_result"
    },
    {
     "data": {
      "image/png": "[encoded data removed]",
      "text/plain": [
       "<matplotlib.figure.Figure at 0x7fb30c39e410>"
      ]
     },
     "metadata": {},
     "output_type": "display_data"
    }
   ],
   "source": [
    "plot((da.sin(x[0])**2 + da.cos(x[0].T)**2).mean(axis=0)[::50])"
   ]
  }
 ],
 "metadata": {
  "kernelspec": {
   "display_name": "Python 2",
   "language": "python",
   "name": "python2"
  },
  "language_info": {
   "codemirror_mode": {
    "name": "ipython",
    "version": 2
   },
   "file_extension": ".py",
   "mimetype": "text/x-python",
   "name": "python",
   "nbconvert_exporter": "python",
   "pygments_lexer": "ipython2",
   "version": "2.7.10"
  }
 },
 "nbformat": 4,
 "nbformat_minor": 0
}

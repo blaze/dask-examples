{
 "cells": [
  {
   "cell_type": "markdown",
   "metadata": {},
   "source": [
    "Runnable Notebooks\n",
    "==========\n",
    "\n",
    "As an experimental service, some of these notebooks can be run live.  This is thanks to the [binder project](http://mybinder.org/).\n",
    "\n",
    "1.  [Time Series and Dask DataFrame](time-series.ipynb)\n",
    "2.  [Dask do](do-and-profiler.ipynb)\n",
    "3.  [NYC Taxi 2013](nyctaxi-2013.ipynb)\n",
    "4.  [Dask Array Basics](dask-array-basics.ipynb)\n",
    "5.  [Dask Dataframe Basics](dask-dataframe-basics.ipynb)\n",
    "6.  [Github Data and Dask Bag](github-data.ipynb)\n",
    "7.  [Hubble Image Analysis with Dask Array's Ghost Cells](hubble.ipynb)"
   ]
  }
 ],
 "metadata": {
  "kernelspec": {
   "display_name": "Python 2",
   "language": "python",
   "name": "python2"
  },
  "language_info": {
   "codemirror_mode": {
    "name": "ipython",
    "version": 2
   },
   "file_extension": ".py",
   "mimetype": "text/x-python",
   "name": "python",
   "nbconvert_exporter": "python",
   "pygments_lexer": "ipython2",
   "version": "2.7.10"
  }
 },
 "nbformat": 4,
 "nbformat_minor": 0
}

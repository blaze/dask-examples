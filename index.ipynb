{
 "cells": [
  {
   "cell_type": "markdown",
   "metadata": {},
   "source": [
    "Runnable Notebooks\n",
    "==========\n",
    "\n",
    "As an experimental service, some of these notebooks can be run live.  This is thanks to the [binder project](http://mybinder.org/).\n",
    "\n",
    "1.  [Time Series and Dask DataFrame](time-series.ipynb)\n",
    "2.  [Dask do](do-and-profiler.ipynb)\n",
    "3.  [NYC Taxi 2013](nyctaxi-2013.ipynb)\n",
    "4.  [Github Data with Dask Bag](github data.ipynb)"
   ]
  }
 ],
 "metadata": {
  "kernelspec": {
   "display_name": "Python 3",
   "language": "python",
   "name": "python3"
  },
  "language_info": {
   "codemirror_mode": {
    "name": "ipython",
    "version": 3
   },
   "file_extension": ".py",
   "mimetype": "text/x-python",
   "name": "python",
   "nbconvert_exporter": "python",
   "pygments_lexer": "ipython3",
   "version": "3.4.3"
  }
 },
 "nbformat": 4,
 "nbformat_minor": 0
}
